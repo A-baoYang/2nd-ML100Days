{
 "cells": [
  {
   "cell_type": "markdown",
   "metadata": {},
   "source": [
    "## HW1"
   ]
  },
  {
   "cell_type": "markdown",
   "metadata": {},
   "source": [
    "### DataSet Chosen: ![Predict Future Sales](https://www.kaggle.com/c/competitive-data-science-predict-future-sales/data)"
   ]
  },
  {
   "cell_type": "markdown",
   "metadata": {},
   "source": [
    "1.It's important because if a little bit sales amount is improved, it'll bring obviously and steady revenue growth for the company in long term situation."
   ]
  },
  {
   "cell_type": "markdown",
   "metadata": {},
   "source": [
    "2.The daily historical sales data is provided by one of the largest Russian software firms - 1C Company."
   ]
  },
  {
   "cell_type": "markdown",
   "metadata": {},
   "source": [
    "3.With the format of time-series dataset consisting of daily sales data."
   ]
  },
  {
   "cell_type": "markdown",
   "metadata": {},
   "source": [
    "4.Our goal is to predict total sales for every products and store in the next month. To evaluate the accuracy of our machine learning results, we can use historical data to train and predict, then use the practical amount of product and shop sales to calculate the accuracy, and evaluate if we need to improve our model or not."
   ]
  },
  {
   "cell_type": "markdown",
   "metadata": {},
   "source": [
    "## HW2"
   ]
  },
  {
   "cell_type": "markdown",
   "metadata": {},
   "source": [
    "### 以數據分析提升自由載客車隊業績"
   ]
  },
  {
   "cell_type": "markdown",
   "metadata": {},
   "source": [
    "1.\n",
    "假設：自由載客車隊之營運模式是招募司機，透過APP媒合乘客，從車費中抽取利潤；叫車次數愈頻繁、車程愈遠，則業績愈好。\n",
    "\n",
    "核心問題：如何提升APP叫車次數及車程距離"
   ]
  },
  {
   "cell_type": "markdown",
   "metadata": {},
   "source": [
    "2.\n",
    "所需資料：UserId, UserGender, UserAge, UserCareer, UserIsParent, DriverId, DriverGender, DriverAge, OrderId, OrderDateTime, WaitingTime, StartingPlace, Distance, ArrivalPlace, Charge, Recency(距離上次叫車的小時數)\n",
    "\n",
    "資料來源：自由載客車隊的行動載具、使用者用來叫車的裝置"
   ]
  },
  {
   "cell_type": "markdown",
   "metadata": {},
   "source": [
    "3.資料型態：\n",
    "\n",
    "- UserId: string\n",
    "- UserGender: string\n",
    "- UserAge: int\n",
    "- UserCareer: string\n",
    "- DriverId: string\n",
    "- DriverGender: string\n",
    "- DriverAge: int\n",
    "- OrderId: string\n",
    "- OrderDateTime: datetime\n",
    "- WaitingTime: strftime\n",
    "- StartingPlace: string\n",
    "- Distance: float\n",
    "- ArrivalPlace: string\n",
    "- Charge: int\n",
    "- Recency: float"
   ]
  },
  {
   "cell_type": "markdown",
   "metadata": {},
   "source": [
    "4.如何驗證假設：\n",
    "使用歷史資料，歸納使用者貢獻的車費；貢獻前25%的使用者是否具有叫車次數頻繁、車程比其他使用者遠的特性\n",
    "若是，接著利用叫車次數/車程距離將使用者分群，找出會頻繁叫車/車程較遠的使用者的其他特性，一樣做分群，找出有潛力提高次數或距離的使用者，發送限時的叫車優惠。\n",
    "將此模型建置於司機載具上，即時分析乘客是否符合有高頻次/遠程潛力族群的輪廓；是的話可提供下次搭乘的限時抵用券，加快獲取此用戶。"
   ]
  },
  {
   "cell_type": "code",
   "execution_count": null,
   "metadata": {
    "collapsed": true
   },
   "outputs": [],
   "source": []
  }
 ],
 "metadata": {
  "kernelspec": {
   "display_name": "Python 3",
   "language": "python",
   "name": "python3"
  },
  "language_info": {
   "codemirror_mode": {
    "name": "ipython",
    "version": 3
   },
   "file_extension": ".py",
   "mimetype": "text/x-python",
   "name": "python",
   "nbconvert_exporter": "python",
   "pygments_lexer": "ipython3",
   "version": "3.6.3"
  }
 },
 "nbformat": 4,
 "nbformat_minor": 2
}
